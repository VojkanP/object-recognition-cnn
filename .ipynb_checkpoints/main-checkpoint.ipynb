{
 "cells": [
  {
   "cell_type": "code",
   "execution_count": null,
   "id": "5dd14a19",
   "metadata": {},
   "outputs": [],
   "source": [
    "!pip install ultralytics"
   ]
  },
  {
   "cell_type": "markdown",
   "id": "99e07d10",
   "metadata": {},
   "source": [
    "## Prepare data"
   ]
  },
  {
   "cell_type": "code",
   "execution_count": 1,
   "id": "a5f4bec9",
   "metadata": {
    "scrolled": true
   },
   "outputs": [
    {
     "name": "stderr",
     "output_type": "stream",
     "text": [
      "Ultralytics YOLOv8.0.153  Python-3.10.11 torch-2.0.0+cpu CPU (Intel Core(TM) i7-10510U 1.80GHz)\n",
      "Setup complete  (8 CPUs, 31.8 GB RAM, 187.8/476.3 GB disk)\n"
     ]
    }
   ],
   "source": [
    "import os\n",
    "import random\n",
    "from include import helper_lib\n",
    "helper_lib.rc('animation', html='jshtml')\n",
    "helper_lib.ultralytics.checks()"
   ]
  },
  {
   "cell_type": "code",
   "execution_count": 2,
   "id": "792ecc8f",
   "metadata": {},
   "outputs": [],
   "source": [
    "train_path = os.path.join(\"datasets\", \"train\")\n",
    "valid_path = os.path.join(\"datasets\", \"valid\")\n",
    "test_path = os.path.join(\"datasets\", \"test\")"
   ]
  },
  {
   "cell_type": "code",
   "execution_count": 3,
   "id": "c60d82e4",
   "metadata": {},
   "outputs": [],
   "source": [
    "ts_path = os.path.join(\"yolo_dataset_parsed\", \"ts\", \"ts\")\n",
    "train_i, valid_i, test_i, ano_paths = helper_lib.choose_train_valid_test(ts_path)"
   ]
  },
  {
   "cell_type": "code",
   "execution_count": 4,
   "id": "a4e06ea4",
   "metadata": {},
   "outputs": [],
   "source": [
    "helper_lib.prepare_images(train_i, ano_paths, ts_path, train_path)\n",
    "helper_lib.prepare_images(valid_i, ano_paths, ts_path, valid_path)\n",
    "helper_lib.prepare_images(test_i, ano_paths, ts_path, test_path)"
   ]
  },
  {
   "cell_type": "code",
   "execution_count": 5,
   "id": "e18702c7",
   "metadata": {},
   "outputs": [],
   "source": [
    "helper_lib.create_data_yaml()"
   ]
  },
  {
   "cell_type": "code",
   "execution_count": 6,
   "id": "51f0b3f8",
   "metadata": {},
   "outputs": [],
   "source": [
    "names = ['prohibitor','danger','mandatory','other']\n",
    "M = list(range(len(names)))\n",
    "class_map = dict(zip(M,names))"
   ]
  },
  {
   "cell_type": "markdown",
   "id": "4f6c694e",
   "metadata": {},
   "source": [
    "## Train data"
   ]
  },
  {
   "cell_type": "code",
   "execution_count": null,
   "id": "bfb3dfe1",
   "metadata": {},
   "outputs": [],
   "source": [
    "model = YOLO(\"yolov8x.pt\") "
   ]
  },
  {
   "cell_type": "code",
   "execution_count": null,
   "id": "2632fd1c",
   "metadata": {},
   "outputs": [],
   "source": [
    "!yolo task=detect mode=train model=yolov8x.pt data=data.yaml epochs=12 imgsz=480"
   ]
  }
 ],
 "metadata": {
  "kernelspec": {
   "display_name": "Python 3 (ipykernel)",
   "language": "python",
   "name": "python3"
  },
  "language_info": {
   "codemirror_mode": {
    "name": "ipython",
    "version": 3
   },
   "file_extension": ".py",
   "mimetype": "text/x-python",
   "name": "python",
   "nbconvert_exporter": "python",
   "pygments_lexer": "ipython3",
   "version": "3.10.11"
  }
 },
 "nbformat": 4,
 "nbformat_minor": 5
}
